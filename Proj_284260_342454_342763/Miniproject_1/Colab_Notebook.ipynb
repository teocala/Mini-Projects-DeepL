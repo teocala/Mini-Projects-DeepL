{
  "cells": [
    {
      "cell_type": "code",
      "source": [
        "from google.colab import drive\n",
        "drive.mount('/content/drive')\n",
        "from google.colab import auth\n",
        "auth.authenticate_user()"
      ],
      "metadata": {
        "colab": {
          "base_uri": "https://localhost:8080/"
        },
        "id": "E2-0sGH4Ti3D",
        "outputId": "457511d3-01ea-403d-de80-3595225ff5dd"
      },
      "execution_count": 2,
      "outputs": [
        {
          "output_type": "stream",
          "name": "stdout",
          "text": [
            "Drive already mounted at /content/drive; to attempt to forcibly remount, call drive.mount(\"/content/drive\", force_remount=True).\n"
          ]
        }
      ]
    },
    {
      "cell_type": "code",
      "source": [
        "my_path = '/content/drive/MyDrive/DeepL/Miniproject_1/'"
      ],
      "metadata": {
        "id": "9A2Vit1lTvNe"
      },
      "execution_count": 3,
      "outputs": []
    },
    {
      "cell_type": "code",
      "execution_count": 4,
      "metadata": {
        "id": "no978ZHTSaNa"
      },
      "outputs": [],
      "source": [
        "import torch \n",
        "from torch import nn\n",
        "import matplotlib.pyplot as plt"
      ]
    },
    {
      "cell_type": "code",
      "source": [
        "def psnr(denoised, ground_truth):\n",
        "    # Peak Signal to Noise Ratio : denoised and ground˙truth have range [0 , 1]\n",
        "    mse = torch . mean ((denoised - ground_truth ) ** 2)\n",
        "    return -10 * torch . log10 ( mse + 10** -8)"
      ],
      "metadata": {
        "id": "skiuQ9RGT7sf"
      },
      "execution_count": 5,
      "outputs": []
    },
    {
      "cell_type": "code",
      "source": [
        "### For mini-project 1\n",
        "class Model(nn.Module):\n",
        "    def __init__(self) -> None:\n",
        "        ## instantiate model + optimizer + loss function + any other stuff you need\n",
        "        super().__init__()\n",
        "\n",
        "        self.encoder = nn.Sequential( # initial: N, 3, 32, 32\n",
        "            nn.AvgPool2d(kernel_size = 2, stride = 2, padding = 0), # N, 3, 16, 16\n",
        "            nn.Conv2d(3, 64, kernel_size = 5, stride = 1),  # N , 32, 12 , 12\n",
        "            nn.ReLU(),\n",
        "            nn.Conv2d(64, 64, kernel_size = 5, stride = 1, padding = 0), # N, 64, 8, 8\n",
        "            nn.ReLU(),\n",
        "            nn.Conv2d(64, 64, kernel_size = 5, stride = 1, padding = 0), # N, 64, 4, 4\n",
        "            nn.ReLU(),\n",
        "            nn.Conv2d(64, 128, kernel_size = 4, stride = 1, padding = 0), # N, 128, 1, 1\n",
        "        )\n",
        "\n",
        "        self.decoder = nn.Sequential(\n",
        "            nn.ConvTranspose2d(128, 64, kernel_size = 4, stride = 1, padding = 0), # N, 64, 4, 4\n",
        "            nn.ReLU(),\n",
        "            nn.ConvTranspose2d(64, 64, kernel_size = 5, stride = 1, padding = 0), # N, 64, 8, 8\n",
        "            nn.ReLU(),\n",
        "            nn.ConvTranspose2d(64, 64, kernel_size = 5, stride = 1, padding = 0), # N, 64, 12, 12\n",
        "            nn.ReLU(),\n",
        "            nn.ConvTranspose2d(64, 64, kernel_size = 5, stride = 1, padding = 0), # N, 64, 16, 16\n",
        "            nn.ReLU(),\n",
        "            nn.ConvTranspose2d(64, 64, kernel_size = 5, stride = 1, padding = 0), # N, 64, 20, 20\n",
        "            nn.ReLU(),\n",
        "            nn.ConvTranspose2d(64, 64, kernel_size = 5, stride = 1, padding = 0), # N, 64, 24, 24\n",
        "            nn.ReLU(),\n",
        "            nn.ConvTranspose2d(64, 64, kernel_size = 5, stride = 1, padding = 0), # N, 64, 28, 28\n",
        "            nn.ReLU(),\n",
        "            nn.ConvTranspose2d(64, 3, kernel_size = 5, stride = 1, padding = 0) # N, 3, 32, 32\n",
        "        )\n",
        "\n",
        "        self.criterion = nn.MSELoss()\n",
        "        self.optimizer = torch.optim.Adam(self.parameters(), lr = 0.001)\n",
        "        \n",
        "\n",
        "    def load_pretrained_model(self ) -> None:\n",
        "        ## This loads the parameters saved in bestmodel . pth into the model\n",
        "        pass\n",
        "\n",
        "    def train(self, train_input, train_target) -> None:\n",
        "        # : train˙input : tensor of size (N , C , H , W ) containing a noisy version of the images.\n",
        "        # : train˙target : tensor of size (N , C , H , W ) containing another noisy version of the\n",
        "        # same images , which only differs from the input by their noise.\n",
        "\n",
        "        batch_size = 100\n",
        "        epochs = 500\n",
        "        epochs_to_print = torch.arange(0,epochs,int(epochs/50))\n",
        "        total_loss = 0\n",
        "\n",
        "        for epoch in range(epochs):\n",
        "            if (epoch in epochs_to_print):\n",
        "              print(f'Epoch {epoch}/{epochs-1} Training Loss {total_loss}')\n",
        "            total_loss = 0\n",
        "            for batch_input, batch_target in zip(train_input.split(batch_size), train_target.split(batch_size)):\n",
        "                output = self.predict(batch_input)\n",
        "                loss = self.criterion(output, batch_target)\n",
        "                total_loss += loss\n",
        "                self.optimizer.zero_grad()\n",
        "                loss.backward()\n",
        "                self.optimizer.step()\n",
        "    \n",
        "    def predict(self, test_input) -> torch.Tensor:\n",
        "        # : test˙input : tensor of size ( N1 , C , H , W ) that has to be denoised by the trained\n",
        "        # or the loaded network .\n",
        "        # : returns a tensor of the size ( N1 , C , H , W )\n",
        "        \n",
        "        # like the forward method\n",
        "        \n",
        "        y = self.encoder(test_input)\n",
        "        y = self.decoder(y)\n",
        "        \n",
        "        return y\n"
      ],
      "metadata": {
        "id": "wrpou9NqSqvm"
      },
      "execution_count": 70,
      "outputs": []
    },
    {
      "cell_type": "code",
      "source": [
        "def main(training=True,images_to_visualize='train'):\n",
        "\n",
        "    device = torch.device('cuda')\n",
        "\n",
        "    # Load the data    \n",
        "    print('Loading the data...')\n",
        "    train_input, train_target = torch.load(my_path + 'train_data.pkl')\n",
        "    test_input, test_target = torch.load(my_path + 'val_data.pkl')\n",
        "    train_input, train_target = train_input.to(device), train_target.to(device)\n",
        "    test_input, test_target = test_input.to(device), test_target.to(device)\n",
        "\n",
        "\n",
        "    # Select a subset to speed up computations\n",
        "    train_size = 1000\n",
        "    train_input = train_input[:train_size]\n",
        "    train_target = train_target[:train_size]\n",
        "    test_input = test_input[:train_size]\n",
        "    test_target = test_target[:train_size]\n",
        "\n",
        "\n",
        "    # Convert the data into float type\n",
        "    train_input = train_input.float()\n",
        "    train_target = train_target.float()\n",
        "    test_input = test_input.float()\n",
        "    test_target = test_target.float()\n",
        "\n",
        "    \n",
        "    print(f'Training data of size {train_input.shape}')\n",
        "\n",
        "    # Defining and training the model\n",
        "    model = Model()\n",
        "    model = model.to(device)\n",
        "    path_to_model = \"/content/drive/MyDrive/DeepL/Miniproject_1/bestmodel.pth\"\n",
        "\n",
        "    if (training == True):\n",
        "      print('Training the model...')\n",
        "      model.train(train_input, train_target)\n",
        "    else:\n",
        "      checkpoint = torch.load(path_to_model)\n",
        "      model.load_state_dict(checkpoint)\n",
        "\n",
        "    # Save the model\n",
        "    torch.save(model.state_dict(),path_to_model)\n",
        "\n",
        "    # Testing\n",
        "    print('Using the trained model to denoise validation images...')\n",
        "    with torch.no_grad():\n",
        "        prediction = model.predict(test_input)\n",
        "\n",
        "    # Evaluating error\n",
        "    error = psnr(prediction, test_target)\n",
        "    print(f'The PSNR on the validation set is {error} DB')\n",
        "\n",
        "\n",
        "    # Visual comparison between original images and reconstructions\n",
        "    # Just for us, probably we can't use matplotlib\n",
        "    # Try to see if there are visualization tools only in Pytorch \n",
        "    # Set \"train\" if you want to compare the training images, \"test\" for testing ones\n",
        "    if (images_to_visualize != 'no'):\n",
        "      if (images_to_visualize == \"train\"):\n",
        "          with torch.no_grad():\n",
        "              pred = model.predict(train_input).cpu()\n",
        "          train_input = train_input.cpu()\n",
        "          images = train_input\n",
        "      elif (images_to_visualize == \"test\"):\n",
        "          pred = prediction\n",
        "          test_input = test_input.cpu()\n",
        "          images = test_input\n",
        "          pred = pred.cpu()\n",
        "      else:\n",
        "          raise RuntimeError(\"Che cazzo hai messo coglione\")\n",
        "      n_comparisons = 5\n",
        "      for i in range(n_comparisons):\n",
        "          f = plt.figure()\n",
        "          f.add_subplot(1, 2, 1)\n",
        "          fig1 = plt.imshow(images[i].int().permute(1, 2, 0))\n",
        "          fig1.axes.get_xaxis().set_visible(False)\n",
        "          fig1.axes.get_yaxis().set_visible(False)\n",
        "          f.add_subplot(1, 2, 2)\n",
        "          fig2 = plt.imshow(pred[i].int().permute(1, 2, 0))\n",
        "          fig2.axes.get_xaxis().set_visible(False)\n",
        "          fig2.axes.get_yaxis().set_visible(False)\n",
        "          plt.show(block=True)"
      ],
      "metadata": {
        "id": "LYPefORASvQ-"
      },
      "execution_count": 71,
      "outputs": []
    },
    {
      "cell_type": "code",
      "source": [
        "main(training=True,images_to_visualize='train') # images_to_visualize='train','test','no'"
      ],
      "metadata": {
        "colab": {
          "base_uri": "https://localhost:8080/",
          "height": 1000
        },
        "id": "ROWodlRdUCcl",
        "outputId": "db54384c-6d1c-412e-d506-1c7c2cd01ea2"
      },
      "execution_count": 72,
      "outputs": [
        {
          "output_type": "stream",
          "name": "stdout",
          "text": [
            "Loading the data...\n",
            "Training data of size torch.Size([1000, 3, 32, 32])\n",
            "Training the model...\n",
            "Epoch 0/499 Training Loss 0\n",
            "Epoch 10/499 Training Loss 59699.7890625\n",
            "Epoch 20/499 Training Loss 35510.3828125\n",
            "Epoch 30/499 Training Loss 31115.580078125\n",
            "Epoch 40/499 Training Loss 29202.06640625\n",
            "Epoch 50/499 Training Loss 27524.037109375\n",
            "Epoch 60/499 Training Loss 26369.43359375\n",
            "Epoch 70/499 Training Loss 25693.7578125\n",
            "Epoch 80/499 Training Loss 24955.67578125\n",
            "Epoch 90/499 Training Loss 24703.69921875\n",
            "Epoch 100/499 Training Loss 24005.640625\n",
            "Epoch 110/499 Training Loss 23499.666015625\n",
            "Epoch 120/499 Training Loss 22872.76171875\n",
            "Epoch 130/499 Training Loss 22741.15625\n",
            "Epoch 140/499 Training Loss 22378.125\n",
            "Epoch 150/499 Training Loss 22020.7265625\n",
            "Epoch 160/499 Training Loss 22190.08984375\n",
            "Epoch 170/499 Training Loss 21745.517578125\n",
            "Epoch 180/499 Training Loss 21001.966796875\n",
            "Epoch 190/499 Training Loss 20814.06640625\n",
            "Epoch 200/499 Training Loss 20909.341796875\n",
            "Epoch 210/499 Training Loss 19916.603515625\n",
            "Epoch 220/499 Training Loss 20115.70703125\n",
            "Epoch 230/499 Training Loss 19361.740234375\n",
            "Epoch 240/499 Training Loss 19393.25\n",
            "Epoch 250/499 Training Loss 18591.439453125\n",
            "Epoch 260/499 Training Loss 18651.43359375\n",
            "Epoch 270/499 Training Loss 18183.5859375\n",
            "Epoch 280/499 Training Loss 18093.19140625\n",
            "Epoch 290/499 Training Loss 18574.546875\n",
            "Epoch 300/499 Training Loss 20015.259765625\n",
            "Epoch 310/499 Training Loss 18392.41015625\n",
            "Epoch 320/499 Training Loss 18004.765625\n",
            "Epoch 330/499 Training Loss 17693.396484375\n",
            "Epoch 340/499 Training Loss 17614.443359375\n",
            "Epoch 350/499 Training Loss 17237.595703125\n",
            "Epoch 360/499 Training Loss 16777.744140625\n",
            "Epoch 370/499 Training Loss 16961.08984375\n",
            "Epoch 380/499 Training Loss 17147.37890625\n",
            "Epoch 390/499 Training Loss 16412.3828125\n",
            "Epoch 400/499 Training Loss 16555.279296875\n",
            "Epoch 410/499 Training Loss 16136.8896484375\n",
            "Epoch 420/499 Training Loss 16305.685546875\n",
            "Epoch 430/499 Training Loss 17256.482421875\n",
            "Epoch 440/499 Training Loss 15628.1826171875\n",
            "Epoch 450/499 Training Loss 16692.111328125\n",
            "Epoch 460/499 Training Loss 15650.783203125\n",
            "Epoch 470/499 Training Loss 16141.595703125\n",
            "Epoch 480/499 Training Loss 15130.41796875\n",
            "Epoch 490/499 Training Loss 15121.744140625\n",
            "Using the trained model to denoise validation images...\n",
            "The PSNR on the validation set is -32.73133087158203 DB\n"
          ]
        },
        {
          "output_type": "display_data",
          "data": {
            "text/plain": [
              "<Figure size 432x288 with 2 Axes>"
            ],
            "image/png": "[encoded data removed]"
          },
          "metadata": {
            "needs_background": "light"
          }
        },
        {
          "output_type": "stream",
          "name": "stderr",
          "text": [
            "Clipping input data to the valid range for imshow with RGB data ([0..1] for floats or [0..255] for integers).\n"
          ]
        },
        {
          "output_type": "display_data",
          "data": {
            "text/plain": [
              "<Figure size 432x288 with 2 Axes>"
            ],
            "image/png": "[encoded data removed]"
          },
          "metadata": {
            "needs_background": "light"
          }
        },
        {
          "output_type": "display_data",
          "data": {
            "text/plain": [
              "<Figure size 432x288 with 2 Axes>"
            ],
            "image/png": "[encoded data removed]"
          },
          "metadata": {
            "needs_background": "light"
          }
        },
        {
          "output_type": "stream",
          "name": "stderr",
          "text": [
            "Clipping input data to the valid range for imshow with RGB data ([0..1] for floats or [0..255] for integers).\n"
          ]
        },
        {
          "output_type": "display_data",
          "data": {
            "text/plain": [
              "<Figure size 432x288 with 2 Axes>"
            ],
            "image/png": "[encoded data removed]"
          },
          "metadata": {
            "needs_background": "light"
          }
        },
        {
          "output_type": "stream",
          "name": "stderr",
          "text": [
            "Clipping input data to the valid range for imshow with RGB data ([0..1] for floats or [0..255] for integers).\n"
          ]
        },
        {
          "output_type": "display_data",
          "data": {
            "text/plain": [
              "<Figure size 432x288 with 2 Axes>"
            ],
            "image/png": "[encoded data removed]"
          },
          "metadata": {
            "needs_background": "light"
          }
        }
      ]
    }
  ],
  "metadata": {
    "language_info": {
      "name": "python"
    },
    "orig_nbformat": 4,
    "colab": {
      "name": "Colab_Notebook.ipynb",
      "provenance": []
    },
    "kernelspec": {
      "name": "python3",
      "display_name": "Python 3"
    },
    "accelerator": "GPU"
  },
  "nbformat": 4,
  "nbformat_minor": 0
}